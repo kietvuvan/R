{
  "nbformat": 4,
  "nbformat_minor": 0,
  "metadata": {
    "colab": {
      "name": "Gamma-InverseGaussian Models",
      "provenance": [],
      "collapsed_sections": []
    },
    "kernelspec": {
      "name": "ir",
      "display_name": "R"
    }
  },
  "cells": [
    {
      "cell_type": "code",
      "metadata": {
        "colab": {
          "base_uri": "https://localhost:8080/"
        },
        "id": "4yHLi2ksgiDj",
        "outputId": "7eb55eed-1317-46c1-8639-33ee0bbac3ae"
      },
      "source": [
        "install.packages(\"GLMsData\")\n",
        "library(GLMsData)\n"
      ],
      "execution_count": null,
      "outputs": [
        {
          "output_type": "stream",
          "text": [
            "Installing package into ‘/usr/local/lib/R/site-library’\n",
            "(as ‘lib’ is unspecified)\n",
            "\n"
          ],
          "name": "stderr"
        }
      ]
    },
    {
      "cell_type": "markdown",
      "metadata": {
        "id": "WQs9v0Hj-y_P"
      },
      "source": [
        "Tập trung chủ yếu vào việc nghiên cứu các biến liên tục và dương --> có các phân phối lệch phải\n",
        "\n",
        "Mô tả về loại dữ liệu sử dụng trong chương:\n",
        "là về loại cây chanh lá nhỏ ở Nga.\n",
        "\n",
        "dữ liệu gồm 4 thành phần:\n",
        "- Foliage --> chế phẩm từ lá chanh (kg) --> biến response\n",
        "- DBH --> đường kính của cây tính ngang đầu người (cm) --> biến explanatory \n",
        "- Age --> tuổi của cây (year) --> biến explanatory\n",
        "- Origin --> nguồn gốc của cây --> biến dạng factor  --> biến explanatory\n",
        "\n",
        "foliage chủ yếu phát triển bên tán ngoài, tán ngoài lại có tỷ lệ với đường kính tán cây --> tìm sự \n",
        "tìm mối quan hệ giữa Foliage và được kính của cây\n",
        "\n",
        "$\n",
        "log(y) \\approx log(\\pi) + 2log(d)\n",
        "$"
      ]
    },
    {
      "cell_type": "code",
      "metadata": {
        "colab": {
          "base_uri": "https://localhost:8080/"
        },
        "id": "w4VzaaFD-s_4",
        "outputId": "38b0ad52-9914-4c4f-ef28-fc01c64560e9"
      },
      "source": [
        "data(lime)\n",
        "str(lime)"
      ],
      "execution_count": null,
      "outputs": [
        {
          "output_type": "stream",
          "text": [
            "'data.frame':\t385 obs. of  4 variables:\n",
            " $ Foliage: num  0.1 0.2 0.4 0.6 0.6 0.8 1 1.4 1.7 3.5 ...\n",
            " $ DBH    : num  4 6 8 9.6 11.3 13.7 15.4 17.8 18 22 ...\n",
            " $ Age    : int  38 38 46 44 60 56 72 74 68 79 ...\n",
            " $ Origin : Factor w/ 3 levels \"Coppice\",\"Natural\",..: 2 2 2 2 2 2 2 2 2 2 ...\n"
          ],
          "name": "stdout"
        }
      ]
    },
    {
      "cell_type": "code",
      "metadata": {
        "colab": {
          "base_uri": "https://localhost:8080/",
          "height": 317
        },
        "id": "zRF5uPTHzEM9",
        "outputId": "90ea33d0-3ad2-4ad4-a1e4-50e95854f1bf"
      },
      "source": [
        "hist(lime$Foliage)"
      ],
      "execution_count": null,
      "outputs": [
        {
          "output_type": "display_data",
          "data": {
            "image/png": "[encoded data removed]",
            "text/plain": [
              "Plot with title “Histogram of lime$Foliage”"
            ]
          },
          "metadata": {
            "tags": [],
            "image/png": {
              "width": 600,
              "height": 300
            }
          }
        }
      ]
    },
    {
      "cell_type": "code",
      "metadata": {
        "colab": {
          "base_uri": "https://localhost:8080/",
          "height": 137
        },
        "id": "zHISCPsRjNnN",
        "outputId": "4781549e-9bfc-4baf-ffa9-c0d0bfe8f8e9"
      },
      "source": [
        "summary(lime)"
      ],
      "execution_count": null,
      "outputs": [
        {
          "output_type": "display_data",
          "data": {
            "text/plain": [
              "    Foliage            DBH             Age             Origin   \n",
              " Min.   : 0.010   Min.   : 1.60   Min.   : 10.00   Coppice:133  \n",
              " 1st Qu.: 0.440   1st Qu.:10.20   1st Qu.: 32.00   Natural:185  \n",
              " Median : 1.060   Median :15.80   Median : 46.00   Planted: 67  \n",
              " Mean   : 1.872   Mean   :16.33   Mean   : 49.55                \n",
              " 3rd Qu.: 2.340   3rd Qu.:21.70   3rd Qu.: 66.00                \n",
              " Max.   :14.080   Max.   :38.90   Max.   :141.00                "
            ]
          },
          "metadata": {
            "tags": []
          }
        }
      ]
    },
    {
      "cell_type": "code",
      "metadata": {
        "id": "aX12VYAOkaH6"
      },
      "source": [
        "# lime\n"
      ],
      "execution_count": null,
      "outputs": []
    },
    {
      "cell_type": "markdown",
      "metadata": {
        "id": "OwfJXV3gEQmz"
      },
      "source": [
        "Hàm mật độ xác suất của Gamma\n",
        "\n",
        "$\n",
        "P(y;\\alpha,\\beta) = \\frac{y^{\\alpha - 1}e^{\\frac{-y}{\\beta}}}{\\Gamma(\\alpha)\\beta^\\alpha}\n",
        "$\n",
        "\n",
        "Sau biến đổi:\n",
        "\n",
        "$\n",
        "P(y;\\mu,\\phi) = {\\frac{y}{\\phi\\mu}}^{1/\\phi} \\frac{1}{y} e^{\\frac{-y}{\\phi\\mu}}\\frac{1}{\\Gamma({1/\\phi})}\n",
        "$\n",
        "\n",
        "với \n",
        "\n",
        "$ \n",
        "\\alpha = {1/\\phi} \n",
        "$\n",
        "\n",
        "$\n",
        "\\beta = \\mu\\phi\n",
        "$\n",
        "\n",
        "general form Gamma GLM:\n",
        "\n",
        "$\n",
        "\\left\\{\n",
        "\\begin{array}{cc}\n",
        "y \\approx \\Gamma(\\mu)\\\\\n",
        "g(\\mu) =  \\beta_0 + \\sum{\\beta_jx_j}\n",
        "\\end{array}\n",
        "\\right.\n",
        "$"
      ]
    },
    {
      "cell_type": "code",
      "metadata": {
        "colab": {
          "base_uri": "https://localhost:8080/",
          "height": 96
        },
        "id": "E04T8_IwuBQq",
        "outputId": "2fe1f553-fd67-4683-e6fc-c141c95bffe1"
      },
      "source": [
        ""
      ],
      "execution_count": null,
      "outputs": [
        {
          "output_type": "error",
          "ename": "ERROR",
          "evalue": "ignored",
          "traceback": [
            "Error in eval(expr, envir, enclos): object 'Foliage' not found\nTraceback:\n"
          ]
        }
      ]
    },
    {
      "cell_type": "code",
      "metadata": {
        "colab": {
          "base_uri": "https://localhost:8080/",
          "height": 617
        },
        "id": "wC3W9EGakmby",
        "outputId": "b6ca29cf-4729-41df-ca80-575d6c92a979"
      },
      "source": [
        "options(repr.plot.width=10, repr.plot.height=10)\n",
        "par(mfrow=c(2,2))\n",
        "plot(Foliage ~ DBH, type=\"n\", las=1, xlab=\"DBH (in cm)\", ylab=\"Foliage biomass (in kg)\", ylim = c(0, 15), xlim=c(0, 40), data=lime)\n",
        "points(Foliage ~ DBH, data=subset(lime, Origin==\"Coppice\"),pch=1)\n",
        "points(Foliage ~ DBH, data=subset(lime, Origin==\"Natural\"),pch=2)\n",
        "points(Foliage ~ DBH, data=subset(lime, Origin==\"Planted\"),pch=3)\n",
        "legend(\"topleft\", pch=c(1, 2, 3), legend=c(\"Coppice\", \"Natural\",\"Planted\"))\n",
        "\n",
        "plot( log(Foliage) ~ log(DBH), type=\"n\", las=1, xlab=\"log of DBH (in cm)\", ylab=\"log of Foliage biomass (in kg)\", ylim = c(-5, 3), xlim=c(0, 4), data=lime)\n",
        "points( log(Foliage) ~ log(DBH), data=subset(lime, Origin==\"Coppice\"), pch=1)\n",
        "points( log(Foliage) ~ log(DBH), data=subset(lime, Origin==\"Natural\"), pch=2)\n",
        "points( log(Foliage) ~ log(DBH), data=subset(lime, Origin==\"Planted\"), pch=3)\n",
        "\n",
        "plot(Foliage ~ Age, type=\"n\", las=1, xlab=\"Age (in years)\", ylab=\"Foliage biomass (in kg)\", ylim = c(0, 15), xlim=c(0, 150), data=lime)\n",
        "\n",
        "points(Foliage ~ Age, data=subset(lime, Origin==\"Coppice\"), pch=1)\n",
        "points(Foliage ~ Age, data=subset(lime, Origin==\"Natural\"), pch=2)\n",
        "points(Foliage ~ Age, data=subset(lime, Origin==\"Planted\"), pch=3)\n",
        "\n",
        "plot( Foliage ~ Origin, data=lime, ylim=c(0, 15), las=1, ylab=\"Foliage biomass (in kg)\")"
      ],
      "execution_count": null,
      "outputs": [
        {
          "output_type": "display_data",
          "data": {
            "image/png": "[encoded data removed]",
            "text/plain": [
              "plot without title"
            ]
          },
          "metadata": {
            "tags": [],
            "image/png": {
              "width": 600,
              "height": 600
            }
          }
        }
      ]
    },
    {
      "cell_type": "code",
      "metadata": {
        "colab": {
          "base_uri": "https://localhost:8080/",
          "height": 634
        },
        "id": "6j4KDIyzxs1j",
        "outputId": "f7bc81a2-7196-4a30-c29e-8a4a6608e168"
      },
      "source": [
        "lime$AgeGrp <- cut(lime$Age, breaks=4 )\n",
        "# lime$AgeGrp\n",
        "vr <- with( lime, tapply(Foliage, list(AgeGrp, Origin), \"var\" ) )\n",
        "# vr\n",
        "mn <- with( lime, tapply(Foliage, list(AgeGrp, Origin), \"mean\" ) )\n",
        "# mn\n",
        "\n",
        "plot( log(vr) ~ log(mn), las=1, pch=19, xlab=\"log(group means)\", ylab=\"log(group variance)\")\n",
        "mf.lm <- lm( c(log(vr)) ~ c(log(mn)) )\n",
        "\n",
        "coef( mf.lm )\n",
        "\n",
        "abline( coef( mf.lm ), lwd=2)"
      ],
      "execution_count": null,
      "outputs": [
        {
          "output_type": "display_data",
          "data": {
            "text/plain": [
              "(Intercept)  c(log(mn)) \n",
              "  -0.165002    1.706453 "
            ],
            "text/latex": "\\begin{description*}\n\\item[(Intercept)] -0.165001981872204\n\\item[c(log(mn))] 1.70645267964212\n\\end{description*}\n",
            "text/markdown": "(Intercept)\n:   -0.165001981872204c(log(mn))\n:   1.70645267964212\n\n",
            "text/html": [
              "<style>\n",
              ".dl-inline {width: auto; margin:0; padding: 0}\n",
              ".dl-inline>dt, .dl-inline>dd {float: none; width: auto; display: inline-block}\n",
              ".dl-inline>dt::after {content: \":\\0020\"; padding-right: .5ex}\n",
              ".dl-inline>dt:not(:first-of-type) {padding-left: .5ex}\n",
              "</style><dl class=dl-inline><dt>(Intercept)</dt><dd>-0.165001981872204</dd><dt>c(log(mn))</dt><dd>1.70645267964212</dd></dl>\n"
            ]
          },
          "metadata": {
            "tags": []
          }
        },
        {
          "output_type": "display_data",
          "data": {
            "image/png": "[encoded data removed]",
            "text/plain": [
              "plot without title"
            ]
          },
          "metadata": {
            "tags": [],
            "image/png": {
              "width": 600,
              "height": 600
            }
          }
        }
      ]
    },
    {
      "cell_type": "markdown",
      "metadata": {
        "id": "Bqmx_BJULKJ1"
      },
      "source": [
        "Khi ta lấy group Age lại và tính log của variance và mean ta tính được hệ số tuyến tính giữa chúng là xấp xỉ 2\n",
        "\n",
        "$\n",
        "log(var) \\approx 2log(mean)\n",
        "$\n",
        "\n",
        "$\n",
        "V(\\mu) \\approx \\mu^2\n",
        "$"
      ]
    },
    {
      "cell_type": "markdown",
      "metadata": {
        "id": "zWBoLsZmQSco"
      },
      "source": [
        "hàm phân bố xác suất của Gaussian nghịch đảo\n",
        "\n",
        "$\n",
        "P(y;\\mu,\\phi) = (2\\pi y^3\\phi)^{-1/2}e^{-\\frac{1}{2\\phi}\\frac{(y - \\mu)^2}{y\\mu^2}}\n",
        "$\n",
        "\n",
        "$\n",
        "\\left\\{\n",
        "\\begin{array}{cc}\n",
        "y \\approx \\Gamma(\\mu)\\\\\n",
        "g(\\mu) =  \\beta_0 + \\sum{\\beta_jx_j}\n",
        "\\end{array}\n",
        "\\right.\n",
        "$"
      ]
    },
    {
      "cell_type": "markdown",
      "metadata": {
        "id": "NBoWnmJlMkTE"
      },
      "source": [
        "ta có deviance của phân phối gamma\n",
        "\n",
        "$\n",
        "d(y, \\mu) = 2 \\left\\{ - log{}\\frac{y}{\\mu} + \\frac{y - \\mu}{\\mu}\n",
        "  \\right\\}\n",
        "$\n",
        "\n",
        "Residual deviance\n",
        "\n",
        "$\n",
        "D(y, \\hat\\mu) = \\displaystyle\\sum_{i = 1}^nw_id(y_i,\\hat\\mu_i) \\approx \\chi^2_{n - p'}\n",
        "$"
      ]
    },
    {
      "cell_type": "markdown",
      "metadata": {
        "id": "h-xyjZDsOk4l"
      },
      "source": [
        "phân phối gamma thường được sử dụng để diễn tả thời gian giữa của phân phối Poisson\n",
        "\n",
        "poisson: số sự kiện xảy ra trong khoản thời gian từ 0 tới T\n",
        "\n",
        "gamma: khoảng thời gian y cân để r sự kiện xảy ra"
      ]
    },
    {
      "cell_type": "code",
      "metadata": {
        "id": "yKPeZftK4xzS"
      },
      "source": [
        ""
      ],
      "execution_count": null,
      "outputs": []
    },
    {
      "cell_type": "code",
      "metadata": {
        "colab": {
          "base_uri": "https://localhost:8080/",
          "height": 240
        },
        "id": "EZH8RsNN_tvX",
        "outputId": "4bff93be-948b-481b-abfb-1c7cee85d618"
      },
      "source": [
        "lime.log <- glm( Foliage ~ Origin * log(DBH), family=Gamma(link=\"log\"),data=lime)\n",
        "lime.log"
      ],
      "execution_count": null,
      "outputs": [
        {
          "output_type": "display_data",
          "data": {
            "text/plain": [
              "\n",
              "Call:  glm(formula = Foliage ~ Origin * log(DBH), family = Gamma(link = \"log\"), \n",
              "    data = lime)\n",
              "\n",
              "Coefficients:\n",
              "           (Intercept)           OriginNatural           OriginPlanted  \n",
              "               -4.6289                  0.3245                 -1.5285  \n",
              "              log(DBH)  OriginNatural:log(DBH)  OriginPlanted:log(DBH)  \n",
              "                1.8432                 -0.2040                  0.5768  \n",
              "\n",
              "Degrees of Freedom: 384 Total (i.e. Null);  379 Residual\n",
              "Null Deviance:\t    508.5 \n",
              "Residual Deviance: 152.7 \tAIC: 750.3"
            ]
          },
          "metadata": {
            "tags": []
          }
        }
      ]
    },
    {
      "cell_type": "code",
      "metadata": {
        "colab": {
          "base_uri": "https://localhost:8080/",
          "height": 480
        },
        "id": "m26e0OzP4y3S",
        "outputId": "3ac98ba7-0ca0-4398-b7aa-7d7f9c556107"
      },
      "source": [
        "summary(lime.log)"
      ],
      "execution_count": null,
      "outputs": [
        {
          "output_type": "display_data",
          "data": {
            "text/plain": [
              "\n",
              "Call:\n",
              "glm(formula = Foliage ~ Origin * log(DBH), family = Gamma(link = \"log\"), \n",
              "    data = lime)\n",
              "\n",
              "Deviance Residuals: \n",
              "    Min       1Q   Median       3Q      Max  \n",
              "-1.7480  -0.5354  -0.1509   0.2528   3.2938  \n",
              "\n",
              "Coefficients:\n",
              "                       Estimate Std. Error t value Pr(>|t|)    \n",
              "(Intercept)             -4.6289     0.2756 -16.793  < 2e-16 ***\n",
              "OriginNatural            0.3245     0.3882   0.836  0.40371    \n",
              "OriginPlanted           -1.5285     0.5727  -2.669  0.00793 ** \n",
              "log(DBH)                 1.8432     0.1016  18.149  < 2e-16 ***\n",
              "OriginNatural:log(DBH)  -0.2040     0.1433  -1.424  0.15536    \n",
              "OriginPlanted:log(DBH)   0.5768     0.2093   2.755  0.00614 ** \n",
              "---\n",
              "Signif. codes:  0 ‘***’ 0.001 ‘**’ 0.01 ‘*’ 0.05 ‘.’ 0.1 ‘ ’ 1\n",
              "\n",
              "(Dispersion parameter for Gamma family taken to be 0.5443774)\n",
              "\n",
              "    Null deviance: 508.48  on 384  degrees of freedom\n",
              "Residual deviance: 152.69  on 379  degrees of freedom\n",
              "AIC: 750.33\n",
              "\n",
              "Number of Fisher Scoring iterations: 6\n"
            ]
          },
          "metadata": {
            "tags": []
          }
        }
      ]
    },
    {
      "cell_type": "code",
      "metadata": {
        "id": "a5zY-_1_ABKd"
      },
      "source": [
        "# lime.inv <- update(lime.log, family=Gamma(link=\"inverse\") )"
      ],
      "execution_count": null,
      "outputs": []
    },
    {
      "cell_type": "code",
      "metadata": {
        "id": "AnJ7Cs9xBwGR",
        "colab": {
          "base_uri": "https://localhost:8080/",
          "height": 617
        },
        "outputId": "01d15526-ca8c-455f-f463-4a852897ab1c"
      },
      "source": [
        "options(repr.plot.width=10, repr.plot.height=10)\n",
        "par(mfrow=c(2,2))\n",
        "\n",
        "plot(rstandard(lime.log) ~ log(fitted(lime.log)), main=\"Log link\", las=1, xlab=\"Log of fitted values\", ylab=\"Standardized residuals\")\n",
        "eta.log <- lime.log$linear.predictor\n",
        "plot(resid(lime.log, type=\"working\") + eta.log ~ eta.log, las=1, ylab=\"Working resid\", xlab=\"Linear predictor, eta\")\n",
        "qqnorm( qr1 <- resid(lime.log), las=1 )\n",
        "# qr1\n",
        "qqline( qr1 )\n",
        "plot( cooks.distance(lime.log), ylab=\"Cook's distance\", las=1, type=\"h\")"
      ],
      "execution_count": null,
      "outputs": [
        {
          "output_type": "display_data",
          "data": {
            "image/png": "[encoded data removed]",
            "text/plain": [
              "Plot with title “Normal Q-Q Plot”"
            ]
          },
          "metadata": {
            "tags": [],
            "image/png": {
              "width": 600,
              "height": 600
            }
          }
        }
      ]
    },
    {
      "cell_type": "markdown",
      "metadata": {
        "id": "cSr1WzERebW5"
      },
      "source": [
        "MLE - page 169 - 4.2.4\n",
        "\n",
        "https://dominhhai.github.io/vi/2017/10/sampling-parameters-estimation/\n",
        "\n",
        "Khai trienr log likelihood của hàm mật độ phân phối của phân phối chuẩn --> phụ thuộc và RSS( tổng bình phương phần dư)\n",
        "tìm max likelihood thực chất là tìm min của RSS --> chính là tìm bình phương nhỏ nhất trong phân phối chuẩn --> đây là trường hợp đặc biệt\n",
        "\n",
        "ước lượng tham số $\\phi$ sao cho đầu ra của mô hình gần với tập mẫu nhất.\n",
        "\n",
        "hàm likelihood thực chất là tích của hàm mật độ xác suất với X phân bố liên tục và hàm trọng lượng xác suất với phân bố rời rạc\n",
        "\n",
        "chuẩn sang log để tránh sai số  chuyển phép nhân thành phép cộng mà tham số $\\phi$ không bị ảnh hưởng"
      ]
    },
    {
      "cell_type": "markdown",
      "metadata": {
        "id": "U2gwRuu_UxMz"
      },
      "source": [
        "Hàm mật độ xác suất của Gamma\n",
        "\n",
        "$\n",
        "P(y;\\alpha,\\beta) = \\frac{y^{\\alpha - 1}e^{\\frac{-y}{\\beta}}}{\\Gamma(\\alpha)\\beta^\\alpha}\n",
        "$\n",
        "\n",
        "Sau biến đổi:\n",
        "\n",
        "$\n",
        "P(y;\\mu,\\phi) = {\\frac{y}{\\phi\\mu}}^{1/\\phi} \\frac{1}{y} e^{\\frac{-y}{\\phi\\mu}}\\frac{1}{\\Gamma({1/\\phi})}\n",
        "$\n",
        "\n",
        "với \n",
        "\n",
        "$ \n",
        "\\alpha = {1/\\phi} \n",
        "$\n",
        "\n",
        "$\n",
        "\\beta = \\mu\\phi\n",
        "$\n",
        "\n",
        "general form Gamma GLM:\n",
        "\n",
        "$\n",
        "\\left\\{\n",
        "\\begin{array}{cc}\n",
        "y \\approx \\Gamma(\\mu)\\\\\n",
        "V(\\mu) = \\mu^2\n",
        "\\end{array}\n",
        "\\right.\n",
        "$"
      ]
    },
    {
      "cell_type": "markdown",
      "metadata": {
        "id": "jOpKb7nkRdmx"
      },
      "source": [
        "deviance của gaussian nghịch đảo:\n",
        "\n",
        "$\n",
        "d(y,\\mu) = \\frac{(y-\\mu)^2}{y\\mu^2}\n",
        "$\n",
        "\n",
        "Residual deviance\n",
        "\n",
        "$\n",
        "D(y, \\hat\\mu) = \\displaystyle\\sum_{i = 1}^nw_id(y_i,\\hat\\mu_i) \\approx \\chi^2_{n - p'}\n",
        "$\n",
        "\n",
        "check bảng 5.1 trang 221\n",
        "\n",
        "$\\phi$ không biết --> đi ước lượng\n",
        "\n",
        "Gaussian nghịch đảo: phân phối thời gian tới các điểm có khoảng cách $\\delta$ với vị trí cố định\n",
        "\n",
        "Gaussian: phân bố khoảng cách từ vị trí đầu tới 1 vị trí bất kỳ trong khoảng thời gian cố định\n"
      ]
    },
    {
      "cell_type": "code",
      "metadata": {
        "id": "p2I8kfSwDKlm",
        "colab": {
          "base_uri": "https://localhost:8080/",
          "height": 51
        },
        "outputId": "2a11c0d9-85c4-4d4e-c5bb-4a7418d5bec4"
      },
      "source": [
        "colSums(influence.measures(lime.log)$is.inf)"
      ],
      "execution_count": null,
      "outputs": [
        {
          "output_type": "display_data",
          "data": {
            "text/plain": [
              "  dfb.1_ dfb.OrgN dfb.OrgP dfb.l(DB dfb.ON:( dfb.OP:(    dffit    cov.r \n",
              "       0        0        0        0        0        0        7       29 \n",
              "  cook.d      hat \n",
              "       0       18 "
            ],
            "text/latex": "\\begin{description*}\n\\item[dfb.1\\textbackslash{}\\_] 0\n\\item[dfb.OrgN] 0\n\\item[dfb.OrgP] 0\n\\item[dfb.l(DB] 0\n\\item[dfb.ON:(] 0\n\\item[dfb.OP:(] 0\n\\item[dffit] 7\n\\item[cov.r] 29\n\\item[cook.d] 0\n\\item[hat] 18\n\\end{description*}\n",
            "text/markdown": "dfb.1_\n:   0dfb.OrgN\n:   0dfb.OrgP\n:   0dfb.l(DB\n:   0dfb.ON:(\n:   0dfb.OP:(\n:   0dffit\n:   7cov.r\n:   29cook.d\n:   0hat\n:   18\n\n",
            "text/html": [
              "<style>\n",
              ".dl-inline {width: auto; margin:0; padding: 0}\n",
              ".dl-inline>dt, .dl-inline>dd {float: none; width: auto; display: inline-block}\n",
              ".dl-inline>dt::after {content: \":\\0020\"; padding-right: .5ex}\n",
              ".dl-inline>dt:not(:first-of-type) {padding-left: .5ex}\n",
              "</style><dl class=dl-inline><dt>dfb.1_</dt><dd>0</dd><dt>dfb.OrgN</dt><dd>0</dd><dt>dfb.OrgP</dt><dd>0</dd><dt>dfb.l(DB</dt><dd>0</dd><dt>dfb.ON:(</dt><dd>0</dd><dt>dfb.OP:(</dt><dd>0</dd><dt>dffit</dt><dd>7</dd><dt>cov.r</dt><dd>29</dd><dt>cook.d</dt><dd>0</dd><dt>hat</dt><dd>18</dd></dl>\n"
            ]
          },
          "metadata": {
            "tags": []
          }
        }
      ]
    },
    {
      "cell_type": "code",
      "metadata": {
        "colab": {
          "base_uri": "https://localhost:8080/",
          "height": 34
        },
        "id": "paKfX_mGa5BE",
        "outputId": "af3f5e74-f4e6-4abf-9b1a-023fad36cf71"
      },
      "source": [
        "df.residual(lime.log)"
      ],
      "execution_count": null,
      "outputs": [
        {
          "output_type": "display_data",
          "data": {
            "text/plain": [
              "[1] 379"
            ],
            "text/latex": "379",
            "text/markdown": "379",
            "text/html": [
              "379"
            ]
          },
          "metadata": {
            "tags": []
          }
        }
      ]
    },
    {
      "cell_type": "code",
      "metadata": {
        "colab": {
          "base_uri": "https://localhost:8080/",
          "height": 34
        },
        "id": "Y8dVYEcrbCDk",
        "outputId": "03e155d8-bd22-4e88-a498-4c21726fca19"
      },
      "source": [
        "deviance(lime.log)"
      ],
      "execution_count": null,
      "outputs": [
        {
          "output_type": "display_data",
          "data": {
            "text/plain": [
              "[1] 152.6895"
            ],
            "text/latex": "152.689496481305",
            "text/markdown": "152.689496481305",
            "text/html": [
              "152.689496481305"
            ]
          },
          "metadata": {
            "tags": []
          }
        }
      ]
    },
    {
      "cell_type": "code",
      "metadata": {
        "colab": {
          "base_uri": "https://localhost:8080/",
          "height": 480
        },
        "id": "7TjO9qFsbZMY",
        "outputId": "81e5ecd3-7817-4b35-8230-cbd4c1ae8f22"
      },
      "source": [
        "summary( lime.log )"
      ],
      "execution_count": null,
      "outputs": [
        {
          "output_type": "display_data",
          "data": {
            "text/plain": [
              "\n",
              "Call:\n",
              "glm(formula = Foliage ~ Origin * log(DBH), family = Gamma(link = \"log\"), \n",
              "    data = lime)\n",
              "\n",
              "Deviance Residuals: \n",
              "    Min       1Q   Median       3Q      Max  \n",
              "-1.7480  -0.5354  -0.1509   0.2528   3.2938  \n",
              "\n",
              "Coefficients:\n",
              "                       Estimate Std. Error t value Pr(>|t|)    \n",
              "(Intercept)             -4.6289     0.2756 -16.793  < 2e-16 ***\n",
              "OriginNatural            0.3245     0.3882   0.836  0.40371    \n",
              "OriginPlanted           -1.5285     0.5727  -2.669  0.00793 ** \n",
              "log(DBH)                 1.8432     0.1016  18.149  < 2e-16 ***\n",
              "OriginNatural:log(DBH)  -0.2040     0.1433  -1.424  0.15536    \n",
              "OriginPlanted:log(DBH)   0.5768     0.2093   2.755  0.00614 ** \n",
              "---\n",
              "Signif. codes:  0 ‘***’ 0.001 ‘**’ 0.01 ‘*’ 0.05 ‘.’ 0.1 ‘ ’ 1\n",
              "\n",
              "(Dispersion parameter for Gamma family taken to be 0.5443774)\n",
              "\n",
              "    Null deviance: 508.48  on 384  degrees of freedom\n",
              "Residual deviance: 152.69  on 379  degrees of freedom\n",
              "AIC: 750.33\n",
              "\n",
              "Number of Fisher Scoring iterations: 6\n"
            ]
          },
          "metadata": {
            "tags": []
          }
        }
      ]
    },
    {
      "cell_type": "code",
      "metadata": {
        "id": "7hrnjr-TEwPR"
      },
      "source": [
        "phi.md <- deviance(lime.log)/df.residual(lime.log)"
      ],
      "execution_count": null,
      "outputs": []
    },
    {
      "cell_type": "code",
      "metadata": {
        "colab": {
          "base_uri": "https://localhost:8080/",
          "height": 34
        },
        "id": "vBKSQb_OIXDJ",
        "outputId": "08271337-97e8-4bf3-8a9e-77db5834346f"
      },
      "source": [
        "deviance(lime.log)"
      ],
      "execution_count": null,
      "outputs": [
        {
          "output_type": "display_data",
          "data": {
            "text/plain": [
              "[1] 152.6895"
            ],
            "text/latex": "152.689496481305",
            "text/markdown": "152.689496481305",
            "text/html": [
              "152.689496481305"
            ]
          },
          "metadata": {
            "tags": []
          }
        }
      ]
    },
    {
      "cell_type": "code",
      "metadata": {
        "id": "uwvnSO60E2sc",
        "colab": {
          "base_uri": "https://localhost:8080/",
          "height": 34
        },
        "outputId": "947d1f34-8610-4a0a-e138-6fb1d9986d61"
      },
      "source": [
        "phi.pearson <- summary( lime.log )$dispersion\n",
        "c( \"Mean Deviance\"=phi.md, \"Pearson\"=phi.pearson)"
      ],
      "execution_count": null,
      "outputs": [
        {
          "output_type": "display_data",
          "data": {
            "text/plain": [
              "Mean Deviance       Pearson \n",
              "    0.4028747     0.5443774 "
            ],
            "text/latex": "\\begin{description*}\n\\item[Mean Deviance] 0.402874660900541\n\\item[Pearson] 0.544377426661929\n\\end{description*}\n",
            "text/markdown": "Mean Deviance\n:   0.402874660900541Pearson\n:   0.544377426661929\n\n",
            "text/html": [
              "<style>\n",
              ".dl-inline {width: auto; margin:0; padding: 0}\n",
              ".dl-inline>dt, .dl-inline>dd {float: none; width: auto; display: inline-block}\n",
              ".dl-inline>dt::after {content: \":\\0020\"; padding-right: .5ex}\n",
              ".dl-inline>dt:not(:first-of-type) {padding-left: .5ex}\n",
              "</style><dl class=dl-inline><dt>Mean Deviance</dt><dd>0.402874660900541</dd><dt>Pearson</dt><dd>0.544377426661929</dd></dl>\n"
            ]
          },
          "metadata": {
            "tags": []
          }
        }
      ]
    },
    {
      "cell_type": "code",
      "metadata": {
        "id": "T77KLhRzFKds",
        "colab": {
          "base_uri": "https://localhost:8080/",
          "height": 220
        },
        "outputId": "22377c9c-56d0-4005-9eb8-be632f1afc3c"
      },
      "source": [
        "round(anova(lime.log, test=\"F\"), 8)"
      ],
      "execution_count": null,
      "outputs": [
        {
          "output_type": "display_data",
          "data": {
            "text/plain": [
              "                Df Deviance   Resid. Df Resid. Dev F         Pr(>F)   \n",
              "NULL            NA         NA 384       508.4806          NA        NA\n",
              "Origin           2  19.894208 382       488.5864    18.27244 3.000e-08\n",
              "log(DBH)         1 328.006627 381       160.5798   602.53532 0.000e+00\n",
              "Origin:log(DBH)  2   7.890304 379       152.6895     7.24709 8.153e-04"
            ],
            "text/latex": "A anova: 4 × 6\n\\begin{tabular}{r|llllll}\n  & Df & Deviance & Resid. Df & Resid. Dev & F & Pr(>F)\\\\\n  & <dbl> & <dbl> & <dbl> & <dbl> & <dbl> & <dbl>\\\\\n\\hline\n\tNULL & NA &         NA & 384 & 508.4806 &        NA &        NA\\\\\n\tOrigin &  2 &  19.894208 & 382 & 488.5864 &  18.27244 & 3.000e-08\\\\\n\tlog(DBH) &  1 & 328.006627 & 381 & 160.5798 & 602.53532 & 0.000e+00\\\\\n\tOrigin:log(DBH) &  2 &   7.890304 & 379 & 152.6895 &   7.24709 & 8.153e-04\\\\\n\\end{tabular}\n",
            "text/markdown": "\nA anova: 4 × 6\n\n| <!--/--> | Df &lt;dbl&gt; | Deviance &lt;dbl&gt; | Resid. Df &lt;dbl&gt; | Resid. Dev &lt;dbl&gt; | F &lt;dbl&gt; | Pr(&gt;F) &lt;dbl&gt; |\n|---|---|---|---|---|---|---|\n| NULL | NA |         NA | 384 | 508.4806 |        NA |        NA |\n| Origin |  2 |  19.894208 | 382 | 488.5864 |  18.27244 | 3.000e-08 |\n| log(DBH) |  1 | 328.006627 | 381 | 160.5798 | 602.53532 | 0.000e+00 |\n| Origin:log(DBH) |  2 |   7.890304 | 379 | 152.6895 |   7.24709 | 8.153e-04 |\n\n",
            "text/html": [
              "<table class=\"dataframe\">\n",
              "<caption>A anova: 4 × 6</caption>\n",
              "<thead>\n",
              "\t<tr><th></th><th scope=col>Df</th><th scope=col>Deviance</th><th scope=col>Resid. Df</th><th scope=col>Resid. Dev</th><th scope=col>F</th><th scope=col>Pr(&gt;F)</th></tr>\n",
              "\t<tr><th></th><th scope=col>&lt;dbl&gt;</th><th scope=col>&lt;dbl&gt;</th><th scope=col>&lt;dbl&gt;</th><th scope=col>&lt;dbl&gt;</th><th scope=col>&lt;dbl&gt;</th><th scope=col>&lt;dbl&gt;</th></tr>\n",
              "</thead>\n",
              "<tbody>\n",
              "\t<tr><th scope=row>NULL</th><td>NA</td><td>        NA</td><td>384</td><td>508.4806</td><td>       NA</td><td>       NA</td></tr>\n",
              "\t<tr><th scope=row>Origin</th><td> 2</td><td> 19.894208</td><td>382</td><td>488.5864</td><td> 18.27244</td><td>3.000e-08</td></tr>\n",
              "\t<tr><th scope=row>log(DBH)</th><td> 1</td><td>328.006627</td><td>381</td><td>160.5798</td><td>602.53532</td><td>0.000e+00</td></tr>\n",
              "\t<tr><th scope=row>Origin:log(DBH)</th><td> 2</td><td>  7.890304</td><td>379</td><td>152.6895</td><td>  7.24709</td><td>8.153e-04</td></tr>\n",
              "</tbody>\n",
              "</table>\n"
            ]
          },
          "metadata": {
            "tags": []
          }
        }
      ]
    },
    {
      "cell_type": "code",
      "metadata": {
        "id": "gDC87WexFZTD",
        "colab": {
          "base_uri": "https://localhost:8080/",
          "height": 254
        },
        "outputId": "1c6d656f-9ae8-4c83-bfd9-f173522c9379"
      },
      "source": [
        "round(anova(lime.log,test=\"F\", dispersion=phi.md), 8)"
      ],
      "execution_count": null,
      "outputs": [
        {
          "output_type": "stream",
          "text": [
            "Warning message in anova.glm(lime.log, test = \"F\", dispersion = phi.md):\n",
            "“using F test with a fixed dispersion is inappropriate”\n"
          ],
          "name": "stderr"
        },
        {
          "output_type": "display_data",
          "data": {
            "text/plain": [
              "                Df Deviance   Resid. Df Resid. Dev F          Pr(>F)   \n",
              "NULL            NA         NA 384       508.4806           NA        NA\n",
              "Origin           2  19.894208 382       488.5864    24.690319 0.000e+00\n",
              "log(DBH)         1 328.006627 381       160.5798   814.165443 0.000e+00\n",
              "Origin:log(DBH)  2   7.890304 379       152.6895     9.792505 5.587e-05"
            ],
            "text/latex": "A anova: 4 × 6\n\\begin{tabular}{r|llllll}\n  & Df & Deviance & Resid. Df & Resid. Dev & F & Pr(>F)\\\\\n  & <dbl> & <dbl> & <dbl> & <dbl> & <dbl> & <dbl>\\\\\n\\hline\n\tNULL & NA &         NA & 384 & 508.4806 &         NA &        NA\\\\\n\tOrigin &  2 &  19.894208 & 382 & 488.5864 &  24.690319 & 0.000e+00\\\\\n\tlog(DBH) &  1 & 328.006627 & 381 & 160.5798 & 814.165443 & 0.000e+00\\\\\n\tOrigin:log(DBH) &  2 &   7.890304 & 379 & 152.6895 &   9.792505 & 5.587e-05\\\\\n\\end{tabular}\n",
            "text/markdown": "\nA anova: 4 × 6\n\n| <!--/--> | Df &lt;dbl&gt; | Deviance &lt;dbl&gt; | Resid. Df &lt;dbl&gt; | Resid. Dev &lt;dbl&gt; | F &lt;dbl&gt; | Pr(&gt;F) &lt;dbl&gt; |\n|---|---|---|---|---|---|---|\n| NULL | NA |         NA | 384 | 508.4806 |         NA |        NA |\n| Origin |  2 |  19.894208 | 382 | 488.5864 |  24.690319 | 0.000e+00 |\n| log(DBH) |  1 | 328.006627 | 381 | 160.5798 | 814.165443 | 0.000e+00 |\n| Origin:log(DBH) |  2 |   7.890304 | 379 | 152.6895 |   9.792505 | 5.587e-05 |\n\n",
            "text/html": [
              "<table class=\"dataframe\">\n",
              "<caption>A anova: 4 × 6</caption>\n",
              "<thead>\n",
              "\t<tr><th></th><th scope=col>Df</th><th scope=col>Deviance</th><th scope=col>Resid. Df</th><th scope=col>Resid. Dev</th><th scope=col>F</th><th scope=col>Pr(&gt;F)</th></tr>\n",
              "\t<tr><th></th><th scope=col>&lt;dbl&gt;</th><th scope=col>&lt;dbl&gt;</th><th scope=col>&lt;dbl&gt;</th><th scope=col>&lt;dbl&gt;</th><th scope=col>&lt;dbl&gt;</th><th scope=col>&lt;dbl&gt;</th></tr>\n",
              "</thead>\n",
              "<tbody>\n",
              "\t<tr><th scope=row>NULL</th><td>NA</td><td>        NA</td><td>384</td><td>508.4806</td><td>        NA</td><td>       NA</td></tr>\n",
              "\t<tr><th scope=row>Origin</th><td> 2</td><td> 19.894208</td><td>382</td><td>488.5864</td><td> 24.690319</td><td>0.000e+00</td></tr>\n",
              "\t<tr><th scope=row>log(DBH)</th><td> 1</td><td>328.006627</td><td>381</td><td>160.5798</td><td>814.165443</td><td>0.000e+00</td></tr>\n",
              "\t<tr><th scope=row>Origin:log(DBH)</th><td> 2</td><td>  7.890304</td><td>379</td><td>152.6895</td><td>  9.792505</td><td>5.587e-05</td></tr>\n",
              "</tbody>\n",
              "</table>\n"
            ]
          },
          "metadata": {
            "tags": []
          }
        }
      ]
    },
    {
      "cell_type": "code",
      "metadata": {
        "id": "Bw-CrmxxFqZZ",
        "colab": {
          "base_uri": "https://localhost:8080/"
        },
        "outputId": "f01980af-c970-4c21-c3d2-06462f60d17d"
      },
      "source": [
        "printCoefmat(coef(summary(lime.log)), 3)"
      ],
      "execution_count": null,
      "outputs": [
        {
          "output_type": "stream",
          "text": [
            "                       Estimate Std. Error t value Pr(>|t|)    \n",
            "(Intercept)              -4.629      0.276  -16.79   <2e-16 ***\n",
            "OriginNatural             0.325      0.388    0.84   0.4037    \n",
            "OriginPlanted            -1.528      0.573   -2.67   0.0079 ** \n",
            "log(DBH)                  1.843      0.102   18.15   <2e-16 ***\n",
            "OriginNatural:log(DBH)   -0.204      0.143   -1.42   0.1554    \n",
            "OriginPlanted:log(DBH)    0.577      0.209    2.76   0.0061 ** \n",
            "---\n",
            "Signif. codes:  0 ‘***’ 0.001 ‘**’ 0.01 ‘*’ 0.05 ‘.’ 0.1 ‘ ’ 1\n"
          ],
          "name": "stdout"
        }
      ]
    },
    {
      "cell_type": "markdown",
      "metadata": {
        "id": "rRCVPOUcgS--"
      },
      "source": [
        "hệ số của DBH gần xấp xỉ với giá trị dữ liệu đầu bài --> có thể tiến hành kiếm định"
      ]
    },
    {
      "cell_type": "code",
      "metadata": {
        "colab": {
          "base_uri": "https://localhost:8080/",
          "height": 240
        },
        "id": "o-Fj7Wrshcit",
        "outputId": "a7d146bc-8472-4ff0-d894-08ce9a61c007"
      },
      "source": [
        "lime.iG <- glm( Foliage ~ Origin * log(DBH), family=inverse.gaussian(link=\"log\"), data=lime)\n",
        "lime.iG"
      ],
      "execution_count": null,
      "outputs": [
        {
          "output_type": "display_data",
          "data": {
            "text/plain": [
              "\n",
              "Call:  glm(formula = Foliage ~ Origin * log(DBH), family = inverse.gaussian(link = \"log\"), \n",
              "    data = lime)\n",
              "\n",
              "Coefficients:\n",
              "           (Intercept)           OriginNatural           OriginPlanted  \n",
              "              -5.74773                 1.33843                -0.47883  \n",
              "              log(DBH)  OriginNatural:log(DBH)  OriginPlanted:log(DBH)  \n",
              "               2.39082                -0.69024                 0.06722  \n",
              "\n",
              "Degrees of Freedom: 384 Total (i.e. Null);  379 Residual\n",
              "Null Deviance:\t    873.6 \n",
              "Residual Deviance: 406.8 \tAIC: 1090"
            ]
          },
          "metadata": {
            "tags": []
          }
        }
      ]
    },
    {
      "cell_type": "code",
      "metadata": {
        "colab": {
          "base_uri": "https://localhost:8080/",
          "height": 51
        },
        "id": "huxwmtFBhqgb",
        "outputId": "30b203ec-d3c2-4acc-881b-af10c8498610"
      },
      "source": [
        "phi.iG.mle <- deviance(lime.iG)/length(lime$Foliage)\n",
        "deviance(lime.iG)\n",
        "length(lime$Foliage)"
      ],
      "execution_count": null,
      "outputs": [
        {
          "output_type": "display_data",
          "data": {
            "text/plain": [
              "[1] 406.8136"
            ],
            "text/latex": "406.813604537471",
            "text/markdown": "406.813604537471",
            "text/html": [
              "406.813604537471"
            ]
          },
          "metadata": {
            "tags": []
          }
        },
        {
          "output_type": "display_data",
          "data": {
            "text/plain": [
              "[1] 385"
            ],
            "text/latex": "385",
            "text/markdown": "385",
            "text/html": [
              "385"
            ]
          },
          "metadata": {
            "tags": []
          }
        }
      ]
    },
    {
      "cell_type": "code",
      "metadata": {
        "colab": {
          "base_uri": "https://localhost:8080/",
          "height": 34
        },
        "id": "SBPgxOJzh8Cb",
        "outputId": "9275878c-0906-4fc9-d6c9-0beb5e509666"
      },
      "source": [
        "phi.iG.md <- deviance(lime.iG)/df.residual(lime.iG)\n",
        "df.residual(lime.iG)"
      ],
      "execution_count": null,
      "outputs": [
        {
          "output_type": "display_data",
          "data": {
            "text/plain": [
              "[1] 379"
            ],
            "text/latex": "379",
            "text/markdown": "379",
            "text/html": [
              "379"
            ]
          },
          "metadata": {
            "tags": []
          }
        }
      ]
    },
    {
      "cell_type": "code",
      "metadata": {
        "colab": {
          "base_uri": "https://localhost:8080/",
          "height": 480
        },
        "id": "Xb9VBpRsiFS2",
        "outputId": "f628d8b4-e4dd-4755-de60-0f1286466d0a"
      },
      "source": [
        "phi.iG.pearson <- summary( lime.iG )$dispersion\n",
        "summary( lime.iG )"
      ],
      "execution_count": null,
      "outputs": [
        {
          "output_type": "display_data",
          "data": {
            "text/plain": [
              "\n",
              "Call:\n",
              "glm(formula = Foliage ~ Origin * log(DBH), family = inverse.gaussian(link = \"log\"), \n",
              "    data = lime)\n",
              "\n",
              "Deviance Residuals: \n",
              "    Min       1Q   Median       3Q      Max  \n",
              "-8.1948  -0.6164  -0.2181   0.0980   4.1490  \n",
              "\n",
              "Coefficients:\n",
              "                       Estimate Std. Error t value Pr(>|t|)    \n",
              "(Intercept)            -5.74773    0.22216 -25.872  < 2e-16 ***\n",
              "OriginNatural           1.33843    0.27352   4.893 1.47e-06 ***\n",
              "OriginPlanted          -0.47883    0.47870  -1.000    0.318    \n",
              "log(DBH)                2.39082    0.12921  18.503  < 2e-16 ***\n",
              "OriginNatural:log(DBH) -0.69024    0.15128  -4.563 6.84e-06 ***\n",
              "OriginPlanted:log(DBH)  0.06722    0.24317   0.276    0.782    \n",
              "---\n",
              "Signif. codes:  0 ‘***’ 0.001 ‘**’ 0.01 ‘*’ 0.05 ‘.’ 0.1 ‘ ’ 1\n",
              "\n",
              "(Dispersion parameter for inverse.gaussian family taken to be 1.255992)\n",
              "\n",
              "    Null deviance: 873.60  on 384  degrees of freedom\n",
              "Residual deviance: 406.81  on 379  degrees of freedom\n",
              "AIC: 1089.5\n",
              "\n",
              "Number of Fisher Scoring iterations: 6\n"
            ]
          },
          "metadata": {
            "tags": []
          }
        }
      ]
    },
    {
      "cell_type": "code",
      "metadata": {
        "colab": {
          "base_uri": "https://localhost:8080/",
          "height": 34
        },
        "id": "1tuc6pGwiMA2",
        "outputId": "6d52825d-1c95-4367-e957-bf48bc63b390"
      },
      "source": [
        "c( \"MLE\"=phi.iG.mle, \"Mean dev.\"=phi.iG.md, \"Pearson\"=phi.iG.pearson)"
      ],
      "execution_count": null,
      "outputs": [
        {
          "output_type": "display_data",
          "data": {
            "text/plain": [
              "      MLE Mean dev.   Pearson \n",
              " 1.056659  1.073387  1.255992 "
            ],
            "text/latex": "\\begin{description*}\n\\item[MLE] 1.05665871308434\n\\item[Mean dev.] 1.07338681936008\n\\item[Pearson] 1.25599152237639\n\\end{description*}\n",
            "text/markdown": "MLE\n:   1.05665871308434Mean dev.\n:   1.07338681936008Pearson\n:   1.25599152237639\n\n",
            "text/html": [
              "<style>\n",
              ".dl-inline {width: auto; margin:0; padding: 0}\n",
              ".dl-inline>dt, .dl-inline>dd {float: none; width: auto; display: inline-block}\n",
              ".dl-inline>dt::after {content: \":\\0020\"; padding-right: .5ex}\n",
              ".dl-inline>dt:not(:first-of-type) {padding-left: .5ex}\n",
              "</style><dl class=dl-inline><dt>MLE</dt><dd>1.05665871308434</dd><dt>Mean dev.</dt><dd>1.07338681936008</dd><dt>Pearson</dt><dd>1.25599152237639</dd></dl>\n"
            ]
          },
          "metadata": {
            "tags": []
          }
        }
      ]
    },
    {
      "cell_type": "code",
      "metadata": {
        "colab": {
          "base_uri": "https://localhost:8080/",
          "height": 34
        },
        "id": "RI3eIWDNid7E",
        "outputId": "9f911fce-1985-4cd2-c949-e1502e9fd55e"
      },
      "source": [
        "c( \"Gamma:\"=AIC(lime.log), \"inv. Gauss.:\"=AIC(lime.iG) )"
      ],
      "execution_count": null,
      "outputs": [
        {
          "output_type": "display_data",
          "data": {
            "text/plain": [
              "      Gamma: inv. Gauss.: \n",
              "    750.3267    1089.5297 "
            ],
            "text/latex": "\\begin{description*}\n\\item[Gamma:] 750.326661211795\n\\item[inv. Gauss.:] 1089.52965438441\n\\end{description*}\n",
            "text/markdown": "Gamma:\n:   750.326661211795inv. Gauss.:\n:   1089.52965438441\n\n",
            "text/html": [
              "<style>\n",
              ".dl-inline {width: auto; margin:0; padding: 0}\n",
              ".dl-inline>dt, .dl-inline>dd {float: none; width: auto; display: inline-block}\n",
              ".dl-inline>dt::after {content: \":\\0020\"; padding-right: .5ex}\n",
              ".dl-inline>dt:not(:first-of-type) {padding-left: .5ex}\n",
              "</style><dl class=dl-inline><dt>Gamma:</dt><dd>750.326661211795</dd><dt>inv. Gauss.:</dt><dd>1089.52965438441</dd></dl>\n"
            ]
          },
          "metadata": {
            "tags": []
          }
        }
      ]
    },
    {
      "cell_type": "markdown",
      "metadata": {
        "id": "TgrfTosqjlov"
      },
      "source": [
        "đo tấm vật liệu xây dưng độ thấm của 3 tấm trên 3 máy khác nhau trong 9 ngày, tổng cộng có 81 tấm.\n",
        "\n",
        "mỗi phép đo là độ thấm trung bình của 8 tấm ngẫu nhiên được cắt ra từ mỗi tấm trong 81 tấm"
      ]
    },
    {
      "cell_type": "code",
      "metadata": {
        "colab": {
          "base_uri": "https://localhost:8080/",
          "height": 154
        },
        "id": "ivMY-BV4i9ug",
        "outputId": "2fe68421-4a04-4cc1-a936-d631fe25301a"
      },
      "source": [
        "data(perm); perm$Day <- factor(perm$Day)\n",
        "summary(perm) "
      ],
      "execution_count": null,
      "outputs": [
        {
          "output_type": "display_data",
          "data": {
            "text/plain": [
              "      Day     Mach        Perm       \n",
              " 1      : 9   A:27   Min.   : 11.67  \n",
              " 2      : 9   B:27   1st Qu.: 24.66  \n",
              " 3      : 9   C:27   Median : 34.67  \n",
              " 4      : 9          Mean   : 43.16  \n",
              " 5      : 9          3rd Qu.: 50.58  \n",
              " 6      : 9          Max.   :177.01  \n",
              " (Other):27                          "
            ]
          },
          "metadata": {
            "tags": []
          }
        }
      ]
    },
    {
      "cell_type": "code",
      "metadata": {
        "colab": {
          "base_uri": "https://localhost:8080/",
          "height": 317
        },
        "id": "pq9iskoj90fH",
        "outputId": "60101336-c65e-4578-939e-3179f5a41c94"
      },
      "source": [
        "hist(perm$Perm)"
      ],
      "execution_count": null,
      "outputs": [
        {
          "output_type": "display_data",
          "data": {
            "image/png": "[encoded data removed]",
            "text/plain": [
              "Plot with title “Histogram of perm$Perm”"
            ]
          },
          "metadata": {
            "tags": [],
            "image/png": {
              "width": 600,
              "height": 300
            }
          }
        }
      ]
    },
    {
      "cell_type": "code",
      "metadata": {
        "colab": {
          "base_uri": "https://localhost:8080/",
          "height": 317
        },
        "id": "UffZYS-jkn1n",
        "outputId": "65f84c35-6300-4219-b686-93ed657fafdb"
      },
      "source": [
        "options(repr.plot.width=10, repr.plot.height=5)\n",
        "par(mfrow=c(1,2))\n",
        "boxplot( Perm ~ Day, data=perm, las=1, ylim=c(0, 200), xlab=\"Day\", ylab=\"Permeability (in s)\")\n",
        "boxplot( Perm ~ Mach, data=perm, las=1, ylim=c(0, 200), xlab=\"Machine\", ylab=\"Permeability (in s)\")"
      ],
      "execution_count": null,
      "outputs": [
        {
          "output_type": "display_data",
          "data": {
            "image/png": "[encoded data removed]",
            "text/plain": [
              "plot without title"
            ]
          },
          "metadata": {
            "tags": [],
            "image/png": {
              "width": 600,
              "height": 300
            }
          }
        }
      ]
    },
    {
      "cell_type": "code",
      "metadata": {
        "colab": {
          "base_uri": "https://localhost:8080/",
          "height": 220
        },
        "id": "hM5MCV-xlDth",
        "outputId": "9b3ad35c-7584-4e86-9f42-579d9ab12a59"
      },
      "source": [
        "perm.log <- glm( Perm ~ Mach * Day, data=perm, family=inverse.gaussian(link=\"log\") )\n",
        "round( anova( perm.log, test=\"F\"), 5)"
      ],
      "execution_count": null,
      "outputs": [
        {
          "output_type": "display_data",
          "data": {
            "text/plain": [
              "         Df Deviance Resid. Df Resid. Dev F        Pr(>F) \n",
              "NULL     NA      NA  80        0.61746          NA      NA\n",
              "Mach      2 0.14045  78        0.47701    14.13283 0.00001\n",
              "Day       8 0.06946  70        0.40755     1.74735 0.10850\n",
              "Mach:Day 16 0.10990  54        0.29765     1.38237 0.18580"
            ],
            "text/latex": "A anova: 4 × 6\n\\begin{tabular}{r|llllll}\n  & Df & Deviance & Resid. Df & Resid. Dev & F & Pr(>F)\\\\\n  & <dbl> & <dbl> & <dbl> & <dbl> & <dbl> & <dbl>\\\\\n\\hline\n\tNULL & NA &      NA & 80 & 0.61746 &       NA &      NA\\\\\n\tMach &  2 & 0.14045 & 78 & 0.47701 & 14.13283 & 0.00001\\\\\n\tDay &  8 & 0.06946 & 70 & 0.40755 &  1.74735 & 0.10850\\\\\n\tMach:Day & 16 & 0.10990 & 54 & 0.29765 &  1.38237 & 0.18580\\\\\n\\end{tabular}\n",
            "text/markdown": "\nA anova: 4 × 6\n\n| <!--/--> | Df &lt;dbl&gt; | Deviance &lt;dbl&gt; | Resid. Df &lt;dbl&gt; | Resid. Dev &lt;dbl&gt; | F &lt;dbl&gt; | Pr(&gt;F) &lt;dbl&gt; |\n|---|---|---|---|---|---|---|\n| NULL | NA |      NA | 80 | 0.61746 |       NA |      NA |\n| Mach |  2 | 0.14045 | 78 | 0.47701 | 14.13283 | 0.00001 |\n| Day |  8 | 0.06946 | 70 | 0.40755 |  1.74735 | 0.10850 |\n| Mach:Day | 16 | 0.10990 | 54 | 0.29765 |  1.38237 | 0.18580 |\n\n",
            "text/html": [
              "<table class=\"dataframe\">\n",
              "<caption>A anova: 4 × 6</caption>\n",
              "<thead>\n",
              "\t<tr><th></th><th scope=col>Df</th><th scope=col>Deviance</th><th scope=col>Resid. Df</th><th scope=col>Resid. Dev</th><th scope=col>F</th><th scope=col>Pr(&gt;F)</th></tr>\n",
              "\t<tr><th></th><th scope=col>&lt;dbl&gt;</th><th scope=col>&lt;dbl&gt;</th><th scope=col>&lt;dbl&gt;</th><th scope=col>&lt;dbl&gt;</th><th scope=col>&lt;dbl&gt;</th><th scope=col>&lt;dbl&gt;</th></tr>\n",
              "</thead>\n",
              "<tbody>\n",
              "\t<tr><th scope=row>NULL</th><td>NA</td><td>     NA</td><td>80</td><td>0.61746</td><td>      NA</td><td>     NA</td></tr>\n",
              "\t<tr><th scope=row>Mach</th><td> 2</td><td>0.14045</td><td>78</td><td>0.47701</td><td>14.13283</td><td>0.00001</td></tr>\n",
              "\t<tr><th scope=row>Day</th><td> 8</td><td>0.06946</td><td>70</td><td>0.40755</td><td> 1.74735</td><td>0.10850</td></tr>\n",
              "\t<tr><th scope=row>Mach:Day</th><td>16</td><td>0.10990</td><td>54</td><td>0.29765</td><td> 1.38237</td><td>0.18580</td></tr>\n",
              "</tbody>\n",
              "</table>\n"
            ]
          },
          "metadata": {
            "tags": []
          }
        }
      ]
    },
    {
      "cell_type": "code",
      "metadata": {
        "colab": {
          "base_uri": "https://localhost:8080/",
          "height": 206
        },
        "id": "PjreiWoomUng",
        "outputId": "088efb73-cdd7-471c-d1d9-2d0123b6daf4"
      },
      "source": [
        "perm.log <- update( perm.log, Perm ~ Mach)\n",
        "perm.log"
      ],
      "execution_count": null,
      "outputs": [
        {
          "output_type": "display_data",
          "data": {
            "text/plain": [
              "\n",
              "Call:  glm(formula = Perm ~ Mach, family = inverse.gaussian(link = \"log\"), \n",
              "    data = perm)\n",
              "\n",
              "Coefficients:\n",
              "(Intercept)        MachB        MachC  \n",
              "     4.0011      -0.6390      -0.1729  \n",
              "\n",
              "Degrees of Freedom: 80 Total (i.e. Null);  78 Residual\n",
              "Null Deviance:\t    0.6175 \n",
              "Residual Deviance: 0.477 \tAIC: 699.9"
            ]
          },
          "metadata": {
            "tags": []
          }
        }
      ]
    },
    {
      "cell_type": "code",
      "metadata": {
        "colab": {
          "base_uri": "https://localhost:8080/",
          "height": 34
        },
        "id": "ni-sNaQmmifO",
        "outputId": "a80f2b61-1a16-4831-e510-618a26d0cb13"
      },
      "source": [
        "tapply( perm$Perm, perm$Mach, \"mean\")"
      ],
      "execution_count": null,
      "outputs": [
        {
          "output_type": "display_data",
          "data": {
            "text/plain": [
              "       A        B        C \n",
              "54.65704 28.84963 45.98037 "
            ],
            "text/latex": "\\begin{description*}\n\\item[A] 54.657037037037\n\\item[B] 28.8496296296296\n\\item[C] 45.9803703703704\n\\end{description*}\n",
            "text/markdown": "A\n:   54.657037037037B\n:   28.8496296296296C\n:   45.9803703703704\n\n",
            "text/html": [
              "<style>\n",
              ".dl-inline {width: auto; margin:0; padding: 0}\n",
              ".dl-inline>dt, .dl-inline>dd {float: none; width: auto; display: inline-block}\n",
              ".dl-inline>dt::after {content: \":\\0020\"; padding-right: .5ex}\n",
              ".dl-inline>dt:not(:first-of-type) {padding-left: .5ex}\n",
              "</style><dl class=dl-inline><dt>A</dt><dd>54.657037037037</dd><dt>B</dt><dd>28.8496296296296</dd><dt>C</dt><dd>45.9803703703704</dd></dl>\n"
            ]
          },
          "metadata": {
            "tags": []
          }
        }
      ]
    },
    {
      "cell_type": "code",
      "metadata": {
        "colab": {
          "base_uri": "https://localhost:8080/",
          "height": 34
        },
        "id": "KfyjJ53GmusL",
        "outputId": "1c2ebfd4-d4a8-40c6-946d-1aa4225d17e4"
      },
      "source": [
        "tapply( fitted(perm.log), perm$Mach, \"mean\")"
      ],
      "execution_count": null,
      "outputs": [
        {
          "output_type": "display_data",
          "data": {
            "text/plain": [
              "       A        B        C \n",
              "54.65704 28.84963 45.98037 "
            ],
            "text/latex": "\\begin{description*}\n\\item[A] 54.6570370371457\n\\item[B] 28.8496296296298\n\\item[C] 45.9803703713482\n\\end{description*}\n",
            "text/markdown": "A\n:   54.6570370371457B\n:   28.8496296296298C\n:   45.9803703713482\n\n",
            "text/html": [
              "<style>\n",
              ".dl-inline {width: auto; margin:0; padding: 0}\n",
              ".dl-inline>dt, .dl-inline>dd {float: none; width: auto; display: inline-block}\n",
              ".dl-inline>dt::after {content: \":\\0020\"; padding-right: .5ex}\n",
              ".dl-inline>dt:not(:first-of-type) {padding-left: .5ex}\n",
              "</style><dl class=dl-inline><dt>A</dt><dd>54.6570370371457</dd><dt>B</dt><dd>28.8496296296298</dd><dt>C</dt><dd>45.9803703713482</dd></dl>\n"
            ]
          },
          "metadata": {
            "tags": []
          }
        }
      ]
    },
    {
      "cell_type": "code",
      "metadata": {
        "colab": {
          "base_uri": "https://localhost:8080/"
        },
        "id": "e6teDc3mm0S9",
        "outputId": "013dd235-6b17-4ebf-ab8e-c7d76fe4a573"
      },
      "source": [
        "printCoefmat(coef(summary(perm.log)))"
      ],
      "execution_count": null,
      "outputs": [
        {
          "output_type": "stream",
          "text": [
            "            Estimate Std. Error t value  Pr(>|t|)    \n",
            "(Intercept)  4.00108    0.11694 34.2137 < 2.2e-16 ***\n",
            "MachB       -0.63898    0.14455 -4.4205 3.144e-05 ***\n",
            "MachC       -0.17286    0.15868 -1.0894    0.2794    \n",
            "---\n",
            "Signif. codes:  0 ‘***’ 0.001 ‘**’ 0.01 ‘*’ 0.05 ‘.’ 0.1 ‘ ’ 1\n"
          ],
          "name": "stdout"
        }
      ]
    },
    {
      "cell_type": "markdown",
      "metadata": {
        "id": "2hupFJLDnbIb"
      },
      "source": [
        "model đưa ra gợi ý là sử dụng máy B để đo độ thấm do \n",
        "\n",
        "máy B chỉ bằng $e^{-0.6390}$ của máy A\n",
        "\n",
        "máy C bằng $e^{-0.1729}$ của máy A"
      ]
    },
    {
      "cell_type": "markdown",
      "metadata": {
        "id": "tfcuXsqyodL_"
      },
      "source": [
        "Case study 2:\n",
        "năng suất trồng giống hành tây lai\n",
        "\n",
        "sản lượng là trung bình trên mỗi cây\n",
        "mật độ trên mỗi foot vuông\n",
        "sản lương là trung bình quá 3 cây, tính trung bình theo thang log-scale\n",
        "\n",
        "\n",
        "Dữ liệu nghịch đảo --> inverse Gaussian\n",
        "\n",
        "z: năng suất của mỗi cây\n",
        "\n",
        "x: mật độ cây trồng\n",
        "\n",
        "y: năng suất của mỗi đơn vị đất"
      ]
    },
    {
      "cell_type": "code",
      "metadata": {
        "colab": {
          "base_uri": "https://localhost:8080/",
          "height": 137
        },
        "id": "TloHdG_noEAe",
        "outputId": "f9e391dc-27fe-4f93-d55e-6630ec731d1b"
      },
      "source": [
        "data(yieldden); yieldden$Var <- factor(yieldden$Var)\n",
        "yieldden$YD <- with(yieldden, Yield * Dens )\n",
        "summary(yieldden)"
      ],
      "execution_count": null,
      "outputs": [
        {
          "output_type": "display_data",
          "data": {
            "text/plain": [
              "     Yield             Dens        Var          YD       \n",
              " Min.   : 16.30   Min.   : 2.140   1:10   Min.   :281.6  \n",
              " 1st Qu.: 25.95   1st Qu.: 4.647   2:10   1st Qu.:335.7  \n",
              " Median : 48.20   Median : 8.695   3:10   Median :418.6  \n",
              " Mean   : 54.71   Mean   :12.344          Mean   :423.2  \n",
              " 3rd Qu.: 72.58   3rd Qu.:18.483          3rd Qu.:509.6  \n",
              " Max.   :131.60   Max.   :31.080          Max.   :598.4  "
            ]
          },
          "metadata": {
            "tags": []
          }
        }
      ]
    },
    {
      "cell_type": "code",
      "metadata": {
        "colab": {
          "base_uri": "https://localhost:8080/"
        },
        "id": "JEL_RCvnuIl8",
        "outputId": "fdf284f6-8ad4-4a3c-88ce-7e53bcc6d25e"
      },
      "source": [
        "str(yieldden)"
      ],
      "execution_count": null,
      "outputs": [
        {
          "output_type": "stream",
          "text": [
            "'data.frame':\t30 obs. of  4 variables:\n",
            " $ Yield: num  105.6 89.4 71 60.3 47.6 ...\n",
            " $ Dens : num  3.07 3.31 5.97 6.99 8.67 ...\n",
            " $ Var  : Factor w/ 3 levels \"1\",\"2\",\"3\": 1 1 1 1 1 1 1 1 1 1 ...\n",
            " $ YD   : num  324 296 424 421 413 ...\n"
          ],
          "name": "stdout"
        }
      ]
    },
    {
      "cell_type": "code",
      "metadata": {
        "colab": {
          "base_uri": "https://localhost:8080/",
          "height": 164
        },
        "id": "lVhFmQsqrwE5",
        "outputId": "b9917294-2411-4920-fc75-e16a756ddf87"
      },
      "source": [
        "# options(repr.plot.width=10, repr.plot.height=10)\n",
        "# par(mfrow=c(2,2))\n",
        "# plot(Yield ~ Dens, type=\"n\", las=1, xlab=\"Planting density (plants/sq. feet), x\", ylab=\"Mean yield/plant (g/plant), z\", ylim = c(0, 120, xlim=c(0, 30), data=yieldden)\n",
        "# points(Yield ~ Dens, data=subset(yieldden, Origin==\"1\"),pch=1)\n",
        "# points(Yield ~ Dens, data=subset(yieldden, Origin==\"2\"),pch=2)\n",
        "# points(Yield ~ Dens, data=subset(yieldden, Origin==\"3\"),pch=3)\n",
        "# legend(\"topleft\", pch=c(1, 2, 3), legend=c(\"Var. 1\", \"Var. 2\",\"Var. 3\"))"
      ],
      "execution_count": null,
      "outputs": [
        {
          "output_type": "error",
          "ename": "ERROR",
          "evalue": "ignored",
          "traceback": [
            "Error in parse(text = x, srcfile = src): <text>:5:0: unexpected end of input\n3: plot(Yield ~ Dens, type=\"n\", las=1, xlab=\"Planting density (plants/sq. feet), x\", ylab=\"Mean yield/plant (g/plant), z\", ylim = c(0, 120, xlim=c(0, 30), data=yieldden)\n4: \n  ^\nTraceback:\n"
          ]
        }
      ]
    },
    {
      "cell_type": "code",
      "metadata": {
        "colab": {
          "base_uri": "https://localhost:8080/",
          "height": 531
        },
        "id": "fM3RFz9IpYrK",
        "outputId": "38216e1a-97b2-4b55-ee7e-b98395b8d8ba"
      },
      "source": [
        "yd.glm.int <- glm( YD ~ (Dens + I(1/Dens)) * Var, family=Gamma(link=inverse), data=yieldden )\n",
        "summary(yd.glm.int)"
      ],
      "execution_count": null,
      "outputs": [
        {
          "output_type": "display_data",
          "data": {
            "text/plain": [
              "\n",
              "Call:\n",
              "glm(formula = YD ~ (Dens + I(1/Dens)) * Var, family = Gamma(link = inverse), \n",
              "    data = yieldden)\n",
              "\n",
              "Deviance Residuals: \n",
              "      Min         1Q     Median         3Q        Max  \n",
              "-0.136573  -0.041790   0.009643   0.033426   0.134434  \n",
              "\n",
              "Coefficients:\n",
              "                 Estimate Std. Error t value Pr(>|t|)    \n",
              "(Intercept)     1.783e-03  2.447e-04   7.288 3.55e-07 ***\n",
              "Dens           -7.358e-06  8.673e-06  -0.848 0.405768    \n",
              "I(1/Dens)       4.562e-03  1.046e-03   4.359 0.000275 ***\n",
              "Var2            1.992e-04  3.448e-04   0.578 0.569649    \n",
              "Var3            5.820e-04  3.586e-04   1.623 0.119466    \n",
              "Dens:Var2       1.223e-06  1.423e-05   0.086 0.932294    \n",
              "Dens:Var3      -1.147e-05  1.320e-05  -0.869 0.394716    \n",
              "I(1/Dens):Var2 -9.722e-04  1.312e-03  -0.741 0.466885    \n",
              "I(1/Dens):Var3 -1.463e-03  1.442e-03  -1.015 0.321720    \n",
              "---\n",
              "Signif. codes:  0 ‘***’ 0.001 ‘**’ 0.01 ‘*’ 0.05 ‘.’ 0.1 ‘ ’ 1\n",
              "\n",
              "(Dispersion parameter for Gamma family taken to be 0.005236209)\n",
              "\n",
              "    Null deviance: 1.45121  on 29  degrees of freedom\n",
              "Residual deviance: 0.11009  on 21  degrees of freedom\n",
              "AIC: 298.35\n",
              "\n",
              "Number of Fisher Scoring iterations: 4\n"
            ]
          },
          "metadata": {
            "tags": []
          }
        }
      ]
    },
    {
      "cell_type": "code",
      "metadata": {
        "colab": {
          "base_uri": "https://localhost:8080/",
          "height": 282
        },
        "id": "rmTvcNGgprSb",
        "outputId": "e509b9bc-37fc-4e78-c04f-c75c444284ab"
      },
      "source": [
        "round( anova( yd.glm.int, test=\"F\"), 5)"
      ],
      "execution_count": null,
      "outputs": [
        {
          "output_type": "display_data",
          "data": {
            "text/plain": [
              "              Df Deviance Resid. Df Resid. Dev F         Pr(>F) \n",
              "NULL          NA      NA  29        1.45121           NA      NA\n",
              "Dens           1 1.00362  28        0.44759    191.66926 0.00000\n",
              "I(1/Dens)      1 0.26851  27        0.17908     51.27959 0.00000\n",
              "Var            2 0.05741  25        0.12166      5.48236 0.01214\n",
              "Dens:Var       2 0.00598  23        0.11569      0.57061 0.57370\n",
              "I(1/Dens):Var  2 0.00560  21        0.11009      0.53475 0.59358"
            ],
            "text/latex": "A anova: 6 × 6\n\\begin{tabular}{r|llllll}\n  & Df & Deviance & Resid. Df & Resid. Dev & F & Pr(>F)\\\\\n  & <dbl> & <dbl> & <dbl> & <dbl> & <dbl> & <dbl>\\\\\n\\hline\n\tNULL & NA &      NA & 29 & 1.45121 &        NA &      NA\\\\\n\tDens &  1 & 1.00362 & 28 & 0.44759 & 191.66926 & 0.00000\\\\\n\tI(1/Dens) &  1 & 0.26851 & 27 & 0.17908 &  51.27959 & 0.00000\\\\\n\tVar &  2 & 0.05741 & 25 & 0.12166 &   5.48236 & 0.01214\\\\\n\tDens:Var &  2 & 0.00598 & 23 & 0.11569 &   0.57061 & 0.57370\\\\\n\tI(1/Dens):Var &  2 & 0.00560 & 21 & 0.11009 &   0.53475 & 0.59358\\\\\n\\end{tabular}\n",
            "text/markdown": "\nA anova: 6 × 6\n\n| <!--/--> | Df &lt;dbl&gt; | Deviance &lt;dbl&gt; | Resid. Df &lt;dbl&gt; | Resid. Dev &lt;dbl&gt; | F &lt;dbl&gt; | Pr(&gt;F) &lt;dbl&gt; |\n|---|---|---|---|---|---|---|\n| NULL | NA |      NA | 29 | 1.45121 |        NA |      NA |\n| Dens |  1 | 1.00362 | 28 | 0.44759 | 191.66926 | 0.00000 |\n| I(1/Dens) |  1 | 0.26851 | 27 | 0.17908 |  51.27959 | 0.00000 |\n| Var |  2 | 0.05741 | 25 | 0.12166 |   5.48236 | 0.01214 |\n| Dens:Var |  2 | 0.00598 | 23 | 0.11569 |   0.57061 | 0.57370 |\n| I(1/Dens):Var |  2 | 0.00560 | 21 | 0.11009 |   0.53475 | 0.59358 |\n\n",
            "text/html": [
              "<table class=\"dataframe\">\n",
              "<caption>A anova: 6 × 6</caption>\n",
              "<thead>\n",
              "\t<tr><th></th><th scope=col>Df</th><th scope=col>Deviance</th><th scope=col>Resid. Df</th><th scope=col>Resid. Dev</th><th scope=col>F</th><th scope=col>Pr(&gt;F)</th></tr>\n",
              "\t<tr><th></th><th scope=col>&lt;dbl&gt;</th><th scope=col>&lt;dbl&gt;</th><th scope=col>&lt;dbl&gt;</th><th scope=col>&lt;dbl&gt;</th><th scope=col>&lt;dbl&gt;</th><th scope=col>&lt;dbl&gt;</th></tr>\n",
              "</thead>\n",
              "<tbody>\n",
              "\t<tr><th scope=row>NULL</th><td>NA</td><td>     NA</td><td>29</td><td>1.45121</td><td>       NA</td><td>     NA</td></tr>\n",
              "\t<tr><th scope=row>Dens</th><td> 1</td><td>1.00362</td><td>28</td><td>0.44759</td><td>191.66926</td><td>0.00000</td></tr>\n",
              "\t<tr><th scope=row>I(1/Dens)</th><td> 1</td><td>0.26851</td><td>27</td><td>0.17908</td><td> 51.27959</td><td>0.00000</td></tr>\n",
              "\t<tr><th scope=row>Var</th><td> 2</td><td>0.05741</td><td>25</td><td>0.12166</td><td>  5.48236</td><td>0.01214</td></tr>\n",
              "\t<tr><th scope=row>Dens:Var</th><td> 2</td><td>0.00598</td><td>23</td><td>0.11569</td><td>  0.57061</td><td>0.57370</td></tr>\n",
              "\t<tr><th scope=row>I(1/Dens):Var</th><td> 2</td><td>0.00560</td><td>21</td><td>0.11009</td><td>  0.53475</td><td>0.59358</td></tr>\n",
              "</tbody>\n",
              "</table>\n"
            ]
          },
          "metadata": {
            "tags": []
          }
        }
      ]
    },
    {
      "cell_type": "code",
      "metadata": {
        "colab": {
          "base_uri": "https://localhost:8080/",
          "height": 463
        },
        "id": "d6F32brLqBTr",
        "outputId": "dc5cecdb-ff90-4892-b0c7-e6a7cf7afb89"
      },
      "source": [
        "yd.glm <- update( yd.glm.int, . ~ Dens + I(1/Dens) + Var )\n",
        "summary(yd.glm)"
      ],
      "execution_count": null,
      "outputs": [
        {
          "output_type": "display_data",
          "data": {
            "text/plain": [
              "\n",
              "Call:\n",
              "glm(formula = YD ~ Dens + I(1/Dens) + Var, family = Gamma(link = inverse), \n",
              "    data = yieldden)\n",
              "\n",
              "Deviance Residuals: \n",
              "     Min        1Q    Median        3Q       Max  \n",
              "-0.12840  -0.03463   0.01231   0.04325   0.12583  \n",
              "\n",
              "Coefficients:\n",
              "              Estimate Std. Error t value Pr(>|t|)    \n",
              "(Intercept)  1.969e-03  1.393e-04  14.129 2.01e-13 ***\n",
              "Dens        -1.261e-05  5.164e-06  -2.442  0.02203 *  \n",
              "I(1/Dens)    3.574e-03  4.936e-04   7.241 1.38e-07 ***\n",
              "Var2         1.001e-04  7.173e-05   1.396  0.17491    \n",
              "Var3         2.450e-04  7.119e-05   3.442  0.00204 ** \n",
              "---\n",
              "Signif. codes:  0 ‘***’ 0.001 ‘**’ 0.01 ‘*’ 0.05 ‘.’ 0.1 ‘ ’ 1\n",
              "\n",
              "(Dispersion parameter for Gamma family taken to be 0.004789151)\n",
              "\n",
              "    Null deviance: 1.45121  on 29  degrees of freedom\n",
              "Residual deviance: 0.12166  on 25  degrees of freedom\n",
              "AIC: 293.35\n",
              "\n",
              "Number of Fisher Scoring iterations: 4\n"
            ]
          },
          "metadata": {
            "tags": []
          }
        }
      ]
    },
    {
      "cell_type": "code",
      "metadata": {
        "colab": {
          "base_uri": "https://localhost:8080/",
          "height": 220
        },
        "id": "lUgy7cDVqP0b",
        "outputId": "5f630a6b-158c-4536-e216-95f9e09d0f01"
      },
      "source": [
        "round( anova(yd.glm, test=\"F\"), 5)"
      ],
      "execution_count": null,
      "outputs": [
        {
          "output_type": "display_data",
          "data": {
            "text/plain": [
              "          Df Deviance Resid. Df Resid. Dev F         Pr(>F) \n",
              "NULL      NA      NA  29        1.45121           NA      NA\n",
              "Dens       1 1.00362  28        0.44759    209.56121 0.00000\n",
              "I(1/Dens)  1 0.26851  27        0.17908     56.06644 0.00000\n",
              "Var        2 0.05741  25        0.12166      5.99412 0.00747"
            ],
            "text/latex": "A anova: 4 × 6\n\\begin{tabular}{r|llllll}\n  & Df & Deviance & Resid. Df & Resid. Dev & F & Pr(>F)\\\\\n  & <dbl> & <dbl> & <dbl> & <dbl> & <dbl> & <dbl>\\\\\n\\hline\n\tNULL & NA &      NA & 29 & 1.45121 &        NA &      NA\\\\\n\tDens &  1 & 1.00362 & 28 & 0.44759 & 209.56121 & 0.00000\\\\\n\tI(1/Dens) &  1 & 0.26851 & 27 & 0.17908 &  56.06644 & 0.00000\\\\\n\tVar &  2 & 0.05741 & 25 & 0.12166 &   5.99412 & 0.00747\\\\\n\\end{tabular}\n",
            "text/markdown": "\nA anova: 4 × 6\n\n| <!--/--> | Df &lt;dbl&gt; | Deviance &lt;dbl&gt; | Resid. Df &lt;dbl&gt; | Resid. Dev &lt;dbl&gt; | F &lt;dbl&gt; | Pr(&gt;F) &lt;dbl&gt; |\n|---|---|---|---|---|---|---|\n| NULL | NA |      NA | 29 | 1.45121 |        NA |      NA |\n| Dens |  1 | 1.00362 | 28 | 0.44759 | 209.56121 | 0.00000 |\n| I(1/Dens) |  1 | 0.26851 | 27 | 0.17908 |  56.06644 | 0.00000 |\n| Var |  2 | 0.05741 | 25 | 0.12166 |   5.99412 | 0.00747 |\n\n",
            "text/html": [
              "<table class=\"dataframe\">\n",
              "<caption>A anova: 4 × 6</caption>\n",
              "<thead>\n",
              "\t<tr><th></th><th scope=col>Df</th><th scope=col>Deviance</th><th scope=col>Resid. Df</th><th scope=col>Resid. Dev</th><th scope=col>F</th><th scope=col>Pr(&gt;F)</th></tr>\n",
              "\t<tr><th></th><th scope=col>&lt;dbl&gt;</th><th scope=col>&lt;dbl&gt;</th><th scope=col>&lt;dbl&gt;</th><th scope=col>&lt;dbl&gt;</th><th scope=col>&lt;dbl&gt;</th><th scope=col>&lt;dbl&gt;</th></tr>\n",
              "</thead>\n",
              "<tbody>\n",
              "\t<tr><th scope=row>NULL</th><td>NA</td><td>     NA</td><td>29</td><td>1.45121</td><td>       NA</td><td>     NA</td></tr>\n",
              "\t<tr><th scope=row>Dens</th><td> 1</td><td>1.00362</td><td>28</td><td>0.44759</td><td>209.56121</td><td>0.00000</td></tr>\n",
              "\t<tr><th scope=row>I(1/Dens)</th><td> 1</td><td>0.26851</td><td>27</td><td>0.17908</td><td> 56.06644</td><td>0.00000</td></tr>\n",
              "\t<tr><th scope=row>Var</th><td> 2</td><td>0.05741</td><td>25</td><td>0.12166</td><td>  5.99412</td><td>0.00747</td></tr>\n",
              "</tbody>\n",
              "</table>\n"
            ]
          },
          "metadata": {
            "tags": []
          }
        }
      ]
    },
    {
      "cell_type": "code",
      "metadata": {
        "colab": {
          "base_uri": "https://localhost:8080/"
        },
        "id": "LfEnp0iUqWDG",
        "outputId": "0c3a91fc-5eb6-4691-d9a3-659bdcae7f15"
      },
      "source": [
        "printCoefmat( coef(summary(yd.glm)), 5)"
      ],
      "execution_count": null,
      "outputs": [
        {
          "output_type": "stream",
          "text": [
            "               Estimate  Std. Error t value  Pr(>|t|)    \n",
            "(Intercept)  1.9687e-03  1.3934e-04 14.1292 2.009e-13 ***\n",
            "Dens        -1.2609e-05  5.1637e-06 -2.4419  0.022026 *  \n",
            "I(1/Dens)    3.5744e-03  4.9364e-04  7.2409 1.376e-07 ***\n",
            "Var2         1.0015e-04  7.1727e-05  1.3963  0.174914    \n",
            "Var3         2.4503e-04  7.1187e-05  3.4420  0.002041 ** \n",
            "---\n",
            "Signif. codes:  0 ‘***’ 0.001 ‘**’ 0.01 ‘*’ 0.05 ‘.’ 0.1 ‘ ’ 1\n"
          ],
          "name": "stdout"
        }
      ]
    }
  ]
}